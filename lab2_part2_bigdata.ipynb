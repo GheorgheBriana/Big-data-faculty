{
  "nbformat": 4,
  "nbformat_minor": 0,
  "metadata": {
    "colab": {
      "provenance": [],
      "authorship_tag": "ABX9TyNcF4BoNvRtH1PdAyxhTlbB",
      "include_colab_link": true
    },
    "kernelspec": {
      "name": "python3",
      "display_name": "Python 3"
    },
    "language_info": {
      "name": "python"
    }
  },
  "cells": [
    {
      "cell_type": "markdown",
      "metadata": {
        "id": "view-in-github",
        "colab_type": "text"
      },
      "source": [
        "<a href=\"https://colab.research.google.com/github/GheorgheBriana/Big-data-faculty/blob/main/lab2_part2_bigdata.ipynb\" target=\"_parent\"><img src=\"https://colab.research.google.com/assets/colab-badge.svg\" alt=\"Open In Colab\"/></a>"
      ]
    },
    {
      "cell_type": "code",
      "execution_count": 1,
      "metadata": {
        "id": "LMc9jfXSgHoA"
      },
      "outputs": [],
      "source": [
        "from pyspark import SparkContext"
      ]
    },
    {
      "cell_type": "code",
      "source": [
        "sc = SparkContext(master=\"local[4]\")"
      ],
      "metadata": {
        "id": "WjVRQBAFguYD"
      },
      "execution_count": 2,
      "outputs": []
    },
    {
      "cell_type": "code",
      "source": [
        "print(sc)"
      ],
      "metadata": {
        "colab": {
          "base_uri": "https://localhost:8080/"
        },
        "id": "sDjmdnR8guU4",
        "outputId": "d67de87c-b1fd-41d4-85a9-0518fe118c4a"
      },
      "execution_count": 8,
      "outputs": [
        {
          "output_type": "stream",
          "name": "stdout",
          "text": [
            "<SparkContext master=local[4] appName=pyspark-shell>\n"
          ]
        }
      ]
    },
    {
      "cell_type": "code",
      "source": [
        "import numpy as np"
      ],
      "metadata": {
        "id": "qLyAZSkCguPe"
      },
      "execution_count": 10,
      "outputs": []
    },
    {
      "cell_type": "code",
      "source": [
        "#inlantuirea(chaining)\n",
        "B = sc.parallelize(np.random.randint(0, 10, size = 1000))\n",
        "lst = B.collect()\n",
        "for i in lst:\n",
        "  print(i, end= ', ')"
      ],
      "metadata": {
        "colab": {
          "base_uri": "https://localhost:8080/"
        },
        "id": "5-pWf008guND",
        "outputId": "4e4fa705-4b5f-42c1-f852-475d2177574f"
      },
      "execution_count": 12,
      "outputs": [
        {
          "output_type": "stream",
          "name": "stdout",
          "text": [
            "2, 4, 5, 2, 5, 4, 5, 2, 8, 6, 6, 3, 1, 8, 3, 6, 8, 2, 7, 8, 2, 2, 1, 9, 8, 6, 6, 0, 3, 4, 2, 1, 5, 0, 5, 4, 5, 8, 6, 7, 8, 1, 1, 2, 3, 5, 5, 0, 9, 0, 5, 7, 8, 5, 7, 1, 7, 7, 9, 0, 5, 5, 4, 9, 8, 5, 8, 0, 4, 2, 4, 6, 2, 2, 7, 3, 3, 5, 8, 9, 5, 6, 9, 5, 4, 5, 1, 3, 4, 9, 2, 8, 9, 5, 4, 2, 5, 2, 4, 1, 7, 8, 8, 4, 6, 8, 7, 5, 1, 7, 7, 7, 3, 8, 1, 2, 6, 1, 1, 9, 8, 7, 9, 7, 5, 0, 3, 6, 3, 7, 1, 3, 8, 8, 8, 4, 7, 2, 0, 2, 9, 7, 1, 8, 4, 7, 3, 5, 7, 8, 4, 6, 8, 4, 9, 7, 2, 4, 3, 0, 4, 9, 8, 2, 2, 8, 4, 0, 6, 0, 3, 5, 4, 6, 3, 4, 4, 3, 6, 3, 9, 9, 4, 6, 1, 0, 6, 3, 1, 1, 2, 3, 5, 6, 2, 0, 2, 3, 0, 2, 7, 7, 3, 5, 4, 2, 3, 8, 0, 4, 0, 5, 0, 9, 2, 3, 5, 8, 3, 1, 6, 2, 4, 5, 6, 2, 7, 7, 8, 3, 7, 5, 2, 2, 9, 9, 1, 7, 0, 4, 1, 3, 0, 2, 3, 0, 7, 5, 7, 4, 9, 5, 5, 1, 7, 8, 3, 5, 0, 3, 5, 4, 6, 6, 3, 4, 0, 8, 2, 0, 9, 9, 9, 5, 9, 5, 4, 8, 5, 5, 7, 8, 7, 0, 4, 1, 3, 9, 5, 8, 4, 0, 7, 2, 4, 6, 0, 8, 3, 6, 6, 2, 5, 3, 2, 5, 9, 9, 4, 6, 8, 9, 2, 7, 7, 2, 4, 2, 2, 2, 8, 1, 6, 8, 4, 1, 4, 6, 0, 3, 4, 0, 0, 0, 9, 2, 7, 1, 5, 8, 1, 1, 7, 5, 0, 3, 7, 0, 0, 5, 5, 5, 1, 3, 3, 4, 1, 2, 3, 5, 0, 1, 2, 6, 0, 7, 0, 4, 5, 8, 7, 4, 7, 3, 0, 2, 2, 2, 3, 4, 4, 9, 6, 7, 2, 2, 7, 4, 9, 6, 0, 0, 5, 4, 4, 1, 8, 7, 3, 7, 8, 0, 6, 2, 8, 7, 9, 7, 8, 4, 2, 2, 4, 6, 3, 4, 9, 3, 5, 5, 8, 9, 1, 1, 3, 7, 1, 5, 2, 3, 4, 1, 4, 0, 8, 4, 9, 7, 8, 1, 3, 5, 6, 7, 7, 8, 0, 5, 4, 3, 8, 8, 3, 9, 5, 7, 5, 7, 6, 4, 5, 5, 8, 0, 7, 2, 4, 8, 7, 7, 7, 7, 6, 2, 7, 2, 8, 1, 9, 3, 6, 1, 6, 1, 2, 1, 0, 2, 4, 2, 0, 0, 7, 1, 1, 6, 3, 3, 7, 2, 9, 9, 8, 4, 9, 2, 9, 6, 1, 7, 4, 8, 2, 4, 4, 1, 2, 0, 3, 1, 2, 9, 7, 7, 8, 7, 0, 2, 3, 2, 3, 0, 3, 1, 6, 4, 1, 9, 5, 0, 4, 2, 2, 4, 1, 3, 5, 3, 1, 5, 2, 7, 7, 1, 9, 9, 6, 8, 2, 3, 0, 5, 2, 4, 2, 4, 2, 0, 0, 1, 2, 4, 1, 3, 0, 3, 1, 0, 2, 8, 3, 2, 0, 3, 6, 7, 5, 8, 9, 4, 5, 5, 5, 9, 9, 9, 9, 9, 1, 9, 8, 4, 4, 5, 8, 4, 2, 9, 9, 4, 0, 4, 8, 3, 5, 6, 2, 3, 1, 9, 1, 2, 7, 4, 3, 6, 5, 1, 7, 8, 5, 0, 0, 6, 7, 2, 1, 1, 3, 8, 2, 9, 6, 0, 4, 5, 7, 5, 8, 1, 9, 8, 9, 5, 8, 9, 7, 3, 3, 4, 0, 3, 3, 8, 9, 1, 9, 9, 9, 5, 9, 1, 8, 5, 2, 2, 4, 6, 9, 2, 7, 7, 0, 2, 8, 4, 7, 0, 3, 3, 5, 6, 5, 0, 2, 6, 1, 9, 8, 0, 0, 4, 2, 0, 8, 6, 4, 4, 6, 5, 1, 0, 1, 2, 8, 6, 7, 5, 5, 2, 4, 1, 2, 9, 9, 5, 3, 9, 3, 7, 5, 6, 5, 9, 3, 1, 3, 1, 5, 0, 9, 2, 4, 2, 0, 2, 7, 9, 8, 9, 9, 0, 6, 4, 7, 4, 6, 6, 7, 0, 4, 0, 7, 0, 9, 3, 4, 5, 7, 9, 7, 0, 0, 4, 2, 5, 2, 8, 3, 9, 5, 0, 2, 5, 6, 6, 5, 0, 8, 6, 6, 9, 5, 5, 2, 7, 2, 3, 7, 1, 0, 0, 7, 3, 3, 0, 3, 8, 7, 1, 2, 4, 8, 0, 5, 4, 9, 5, 4, 1, 6, 5, 4, 3, 6, 0, 7, 3, 3, 6, 1, 9, 9, 3, 7, 2, 5, 5, 3, 8, 9, 1, 1, 1, 7, 1, 1, 8, 5, 0, 4, 3, 3, 5, 0, 1, 3, 3, 2, 9, 0, 9, 8, 4, 4, 4, 9, 0, 3, 3, 7, 7, 2, 4, 4, 2, 4, 7, 9, 1, 4, 7, 0, 1, 8, 4, 1, 6, 7, 9, 3, 5, 4, 5, 5, 6, 1, 8, 3, 9, 2, 7, 0, 2, 3, 3, 8, 2, 5, 1, 9, 2, 7, 1, 2, 9, 8, 5, 2, 2, 6, 0, 9, 9, 4, 4, 9, 6, 2, 0, 8, 1, 1, 9, 5, 8, 5, 8, 7, 3, 2, 4, 1, 9, 6, 3, 0, 7, 6, 5, 4, 2, 0, 9, 5, 5, 8, 3, 3, 3, 7, 0, 2, 4, 2, 6, 1, 6, 2, 2, 2, 2, 9, 7, 4, 5, 9, 9, 1, 3, 7, 2, 4, 1, 7, 6, 5, 0, 5, 5, 4, 0, 5, 3, 4, 0, 0, 6, 7, 7, "
          ]
        }
      ]
    },
    {
      "cell_type": "code",
      "source": [
        "%%time\n",
        "Squares = B.map(lambda x: x*x)\n",
        "summation = Squares.reduce(lambda x, y:x+y)\n",
        "print(summation)\n",
        "#Squares ia valorile din RDD-ul B si le duce la patrat\n",
        "#in continuare, aplicam reduce pe Squares, ajungand la un singur rezultat (suma elementelor din Squares)"
      ],
      "metadata": {
        "colab": {
          "base_uri": "https://localhost:8080/"
        },
        "id": "ICGwbUFeguLG",
        "outputId": "9cfd4ba0-366a-4527-ac95-4c719bbe5bec"
      },
      "execution_count": 19,
      "outputs": [
        {
          "output_type": "stream",
          "name": "stdout",
          "text": [
            "27482\n",
            "CPU times: user 14.3 ms, sys: 1.44 ms, total: 15.8 ms\n",
            "Wall time: 754 ms\n"
          ]
        }
      ]
    },
    {
      "cell_type": "code",
      "source": [
        "%%time\n",
        "#combinare calcule intr o singura comanda in cascada\n",
        "B.map(lambda x: x*x).reduce(lambda x, y:x+y)"
      ],
      "metadata": {
        "colab": {
          "base_uri": "https://localhost:8080/"
        },
        "id": "znyxmRxtguIk",
        "outputId": "3ff149af-f826-4731-c281-e7bf49711056"
      },
      "execution_count": 20,
      "outputs": [
        {
          "output_type": "stream",
          "name": "stdout",
          "text": [
            "CPU times: user 30.1 ms, sys: 1.47 ms, total: 31.6 ms\n",
            "Wall time: 2.25 s\n"
          ]
        },
        {
          "output_type": "execute_result",
          "data": {
            "text/plain": [
              "np.int64(27482)"
            ]
          },
          "metadata": {},
          "execution_count": 20
        }
      ]
    },
    {
      "cell_type": "code",
      "source": [
        "sc.stop()"
      ],
      "metadata": {
        "id": "h8oxjsZvgt42"
      },
      "execution_count": 21,
      "outputs": []
    }
  ]
}