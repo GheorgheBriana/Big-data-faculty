{
  "nbformat": 4,
  "nbformat_minor": 0,
  "metadata": {
    "colab": {
      "provenance": [],
      "authorship_tag": "ABX9TyOtMj6XRsn4XeJJ4nNWMSh+",
      "include_colab_link": true
    },
    "kernelspec": {
      "name": "python3",
      "display_name": "Python 3"
    },
    "language_info": {
      "name": "python"
    }
  },
  "cells": [
    {
      "cell_type": "markdown",
      "metadata": {
        "id": "view-in-github",
        "colab_type": "text"
      },
      "source": [
        "<a href=\"https://colab.research.google.com/github/GheorgheBriana/Big-data-faculty/blob/main/lab1_bigdata.ipynb\" target=\"_parent\"><img src=\"https://colab.research.google.com/assets/colab-badge.svg\" alt=\"Open In Colab\"/></a>"
      ]
    },
    {
      "cell_type": "code",
      "source": [
        "!apt-get install openjdk-8-jdk-headless -qq > /dev/null\n",
        "!wget -q https://archive.apache.org/dist/spark/spark-3.4.1/spark-3.4.1-bin-hadoop3.tgz\n",
        "!tar xf spark-3.4.1-bin-hadoop3.tgz\n",
        "!pip install -q findspark\n"
      ],
      "metadata": {
        "id": "3X42TFOQYh6W"
      },
      "execution_count": 2,
      "outputs": []
    },
    {
      "cell_type": "code",
      "source": [
        "import os\n",
        "os.environ[\"JAVA_HOME\"] = \"/usr/lib/jvm/java-8-openjdk-amd64\"\n",
        "os.environ[\"SPARK_HOME\"] = \"/content/spark-3.4.1-bin-hadoop3\"\n"
      ],
      "metadata": {
        "id": "9goyj1ijeRu_"
      },
      "execution_count": 3,
      "outputs": []
    },
    {
      "cell_type": "code",
      "source": [
        "import findspark\n",
        "findspark.init()\n"
      ],
      "metadata": {
        "id": "tMuvGhQzeWbF"
      },
      "execution_count": 5,
      "outputs": []
    },
    {
      "cell_type": "code",
      "source": [
        "from pyspark import SparkContext # initializare spark \n",
        "import numpy as np # pentru a genera un array cu elemente aleatoare"
      ],
      "metadata": {
        "id": "q4joeUPpeWvg"
      },
      "execution_count": 6,
      "outputs": []
    },
    {
      "cell_type": "code",
      "source": [
        "sc = SparkContext(master = \"local[4]\")\n",
        "#Spark va folosi 4 thread-uri de pe procesor \"fire\""
      ],
      "metadata": {
        "id": "7UA8doaWeXWJ"
      },
      "execution_count": 7,
      "outputs": []
    },
    {
      "cell_type": "code",
      "source": [
        "print(sc)"
      ],
      "metadata": {
        "colab": {
          "base_uri": "https://localhost:8080/"
        },
        "id": "SfnLUJiaf7_R",
        "outputId": "09ab5f82-a622-4a5a-da50-71fd603806dd"
      },
      "execution_count": 8,
      "outputs": [
        {
          "output_type": "stream",
          "name": "stdout",
          "text": [
            "<SparkContext master=local[4] appName=pyspark-shell>\n"
          ]
        }
      ]
    },
    {
      "cell_type": "code",
      "source": [
        "lst = np.random.randint(0, 10, 20)\n",
        "#creeaza un array numpy cu 20 de numere intre 0 si 9 \n"
      ],
      "metadata": {
        "id": "a6hQLs6Mf8Pd"
      },
      "execution_count": 9,
      "outputs": []
    },
    {
      "cell_type": "code",
      "source": [
        "print(lst)"
      ],
      "metadata": {
        "colab": {
          "base_uri": "https://localhost:8080/"
        },
        "id": "-npATgRDf8gA",
        "outputId": "4b176984-5649-46ba-a045-eae517a07f44"
      },
      "execution_count": 12,
      "outputs": [
        {
          "output_type": "stream",
          "name": "stdout",
          "text": [
            "[6 3 4 1 9 4 9 2 4 3 2 0 1 4 1 8 5 6 9 9]\n"
          ]
        }
      ]
    },
    {
      "cell_type": "code",
      "source": [
        "# Creare RDD din array\n",
        "A = sc.parallelize(lst)\n",
        "# transforma array-ul numpy lst intr un RDD\n",
        "# RDD-ul este o structura distribuita, imutabila care permite procesarea datelor\n",
        "# pe mai multe thread-uri"
      ],
      "metadata": {
        "id": "G-2j-sHrf8tJ"
      },
      "execution_count": 14,
      "outputs": []
    },
    {
      "cell_type": "code",
      "source": [
        "#Afisare tip date A\n",
        "A"
      ],
      "metadata": {
        "colab": {
          "base_uri": "https://localhost:8080/"
        },
        "id": "q9citrSXf935",
        "outputId": "643e7d73-c86d-41a5-dc0a-11349a61256d"
      },
      "execution_count": 15,
      "outputs": [
        {
          "output_type": "execute_result",
          "data": {
            "text/plain": [
              "ParallelCollectionRDD[0] at readRDDFromFile at PythonRDD.scala:287"
            ]
          },
          "metadata": {},
          "execution_count": 15
        }
      ]
    },
    {
      "cell_type": "code",
      "source": [
        "A.collect()\n",
        "#collect aduce toate datele din RDD inapoi intr-o lista Python\n",
        "#nu se foloseste pe seturi de date mari\n",
        "#un RDD nu poater fi afisat fara collect sau alte actiuni"
      ],
      "metadata": {
        "colab": {
          "base_uri": "https://localhost:8080/"
        },
        "id": "H23_lqwii4MY",
        "outputId": "958e0fff-253b-4559-f448-4ecc54bfd53a"
      },
      "execution_count": 16,
      "outputs": [
        {
          "output_type": "execute_result",
          "data": {
            "text/plain": [
              "[np.int64(6),\n",
              " np.int64(3),\n",
              " np.int64(4),\n",
              " np.int64(1),\n",
              " np.int64(9),\n",
              " np.int64(4),\n",
              " np.int64(9),\n",
              " np.int64(2),\n",
              " np.int64(4),\n",
              " np.int64(3),\n",
              " np.int64(2),\n",
              " np.int64(0),\n",
              " np.int64(1),\n",
              " np.int64(4),\n",
              " np.int64(1),\n",
              " np.int64(8),\n",
              " np.int64(5),\n",
              " np.int64(6),\n",
              " np.int64(9),\n",
              " np.int64(9)]"
            ]
          },
          "metadata": {},
          "execution_count": 16
        }
      ]
    },
    {
      "cell_type": "code",
      "source": [
        "A.glom().collect()\n",
        "# daca exista 20 de elem si 4 thread-uri => datele sunt impartite pe 4 partitii\n",
        "# glom arata cum arata fiecare partitie/bucata. Fiecare partitie de procesata de un thread"
      ],
      "metadata": {
        "colab": {
          "base_uri": "https://localhost:8080/"
        },
        "id": "IGvuPGXdf-Fr",
        "outputId": "9dafc55b-3ff1-40c4-b4dd-591ea2878de9"
      },
      "execution_count": 17,
      "outputs": [
        {
          "output_type": "execute_result",
          "data": {
            "text/plain": [
              "[[np.int64(6), np.int64(3), np.int64(4), np.int64(1), np.int64(9)],\n",
              " [np.int64(4), np.int64(9), np.int64(2), np.int64(4), np.int64(3)],\n",
              " [np.int64(2), np.int64(0), np.int64(1), np.int64(4), np.int64(1)],\n",
              " [np.int64(8), np.int64(5), np.int64(6), np.int64(9), np.int64(9)]]"
            ]
          },
          "metadata": {},
          "execution_count": 17
        }
      ]
    },
    {
      "cell_type": "code",
      "source": [
        "#Numarare elemente din RDD\n",
        "A.count()"
      ],
      "metadata": {
        "colab": {
          "base_uri": "https://localhost:8080/"
        },
        "id": "rg7RTpEof-iY",
        "outputId": "5014287d-2e13-4729-859d-c05c30a8a291"
      },
      "execution_count": 18,
      "outputs": [
        {
          "output_type": "execute_result",
          "data": {
            "text/plain": [
              "20"
            ]
          },
          "metadata": {},
          "execution_count": 18
        }
      ]
    },
    {
      "cell_type": "code",
      "source": [
        "A.first()\n",
        "#primul element din RDD"
      ],
      "metadata": {
        "colab": {
          "base_uri": "https://localhost:8080/"
        },
        "id": "n4n4Wao7kBCq",
        "outputId": "bcd4a281-a36b-4190-f9ec-da2c79231f86"
      },
      "execution_count": 19,
      "outputs": [
        {
          "output_type": "execute_result",
          "data": {
            "text/plain": [
              "np.int64(6)"
            ]
          },
          "metadata": {},
          "execution_count": 19
        }
      ]
    },
    {
      "cell_type": "code",
      "source": [
        "A.take(4)\n",
        "#returneaza primele 4 elemente"
      ],
      "metadata": {
        "colab": {
          "base_uri": "https://localhost:8080/"
        },
        "id": "NQamclp_f-vm",
        "outputId": "44b80756-5d40-469a-82e7-848e80bbf110"
      },
      "execution_count": 20,
      "outputs": [
        {
          "output_type": "execute_result",
          "data": {
            "text/plain": [
              "[np.int64(6), np.int64(3), np.int64(4), np.int64(1)]"
            ]
          },
          "metadata": {},
          "execution_count": 20
        }
      ]
    },
    {
      "cell_type": "code",
      "source": [
        "A_distinct = A.distinct()\n",
        "#distinct creeaza un nou RDD fara duplicate (nu il afiseaza inca)\n",
        "# originalul (A) ramane neschimbat"
      ],
      "metadata": {
        "id": "oG2PaWTCiJ-v"
      },
      "execution_count": 22,
      "outputs": []
    },
    {
      "cell_type": "code",
      "source": [
        "A_distinct.collect()"
      ],
      "metadata": {
        "colab": {
          "base_uri": "https://localhost:8080/"
        },
        "id": "iRUTx8PGiKNU",
        "outputId": "94e1d498-48ef-4e1d-974c-75e82a9ae796"
      },
      "execution_count": 23,
      "outputs": [
        {
          "output_type": "execute_result",
          "data": {
            "text/plain": [
              "[np.int64(4),\n",
              " np.int64(0),\n",
              " np.int64(8),\n",
              " np.int64(1),\n",
              " np.int64(9),\n",
              " np.int64(5),\n",
              " np.int64(6),\n",
              " np.int64(2),\n",
              " np.int64(3)]"
            ]
          },
          "metadata": {},
          "execution_count": 23
        }
      ]
    },
    {
      "cell_type": "code",
      "source": [
        "A.reduce(lambda x, y: x + y)\n",
        "#reduce - combina toate elementele din RDD folosind o functie data (aici: suma)"
      ],
      "metadata": {
        "colab": {
          "base_uri": "https://localhost:8080/"
        },
        "id": "g077ejBBiKVN",
        "outputId": "571ae452-b769-450f-9780-b4cccd0d7f06"
      },
      "execution_count": 26,
      "outputs": [
        {
          "output_type": "execute_result",
          "data": {
            "text/plain": [
              "np.int64(90)"
            ]
          },
          "metadata": {},
          "execution_count": 26
        }
      ]
    },
    {
      "cell_type": "code",
      "source": [
        "A.sum()"
      ],
      "metadata": {
        "colab": {
          "base_uri": "https://localhost:8080/"
        },
        "id": "oqu50WqkiKc2",
        "outputId": "d04344b2-fc6f-4531-82d3-87c2af260db8"
      },
      "execution_count": 27,
      "outputs": [
        {
          "output_type": "execute_result",
          "data": {
            "text/plain": [
              "np.int64(90)"
            ]
          },
          "metadata": {},
          "execution_count": 27
        }
      ]
    },
    {
      "cell_type": "code",
      "source": [
        "A.fold(0, lambda x, y: x + y)\n",
        "#similara cu reduce, dar porneste de la o valoare data (aici: 0)"
      ],
      "metadata": {
        "colab": {
          "base_uri": "https://localhost:8080/"
        },
        "id": "LGnPL1XGnb8t",
        "outputId": "51661df9-a4de-4dae-8ef5-97bcab15659c"
      },
      "execution_count": 28,
      "outputs": [
        {
          "output_type": "execute_result",
          "data": {
            "text/plain": [
              "np.int64(90)"
            ]
          },
          "metadata": {},
          "execution_count": 28
        }
      ]
    },
    {
      "cell_type": "code",
      "source": [
        "A.reduce(lambda x, y: x if x > y else y)\n",
        "#se va afisa cel mai mare nr\n",
        "#logica este asta: se vor compara toate elementele dintr o partitie, 2 cate 2 => se gaseste cel mai mare element local/de pe acel rand\n",
        "# se face un array (imaginar) cu toți acești maximi locali si se alege cel mai mare nr din acel array/ cel mai mare numar global"
      ],
      "metadata": {
        "colab": {
          "base_uri": "https://localhost:8080/"
        },
        "id": "X37AL07aiKvg",
        "outputId": "d0f95d0b-f53c-459d-ab6f-33fcca2faca6"
      },
      "execution_count": 33,
      "outputs": [
        {
          "output_type": "execute_result",
          "data": {
            "text/plain": [
              "np.int64(9)"
            ]
          },
          "metadata": {},
          "execution_count": 33
        }
      ]
    },
    {
      "cell_type": "code",
      "source": [
        "words = 'These are some of the best Macintosh computers ever'.split(' ')\n",
        "#creeaza o lista de cuvinte impartind propozitia la fiecare spatiu\n",
        "#['These', 'are', 'some', 'of', 'the', 'best', 'Macintosh', 'computers', 'ever']"
      ],
      "metadata": {
        "id": "sBmAZ9uqiK28"
      },
      "execution_count": 34,
      "outputs": []
    },
    {
      "cell_type": "code",
      "source": [
        "A.filter(lambda x: x % 3 == 0).collect()\n",
        "#filter pastreaza toate elem din RDD care respecta conditia data\n",
        "#collect aduce rezultatul sub forma de lista"
      ],
      "metadata": {
        "colab": {
          "base_uri": "https://localhost:8080/"
        },
        "id": "m7InJLAEiK-J",
        "outputId": "312a98ec-28c3-46ff-e415-ff4c755e4125"
      },
      "execution_count": 37,
      "outputs": [
        {
          "output_type": "execute_result",
          "data": {
            "text/plain": [
              "[np.int64(6),\n",
              " np.int64(3),\n",
              " np.int64(9),\n",
              " np.int64(9),\n",
              " np.int64(3),\n",
              " np.int64(0),\n",
              " np.int64(6),\n",
              " np.int64(9),\n",
              " np.int64(9)]"
            ]
          },
          "metadata": {},
          "execution_count": 37
        }
      ]
    },
    {
      "cell_type": "code",
      "source": [
        "#fctie personalizata pt reduce pe cuvinte\n",
        "def largerThan(x, y):\n",
        "    \"\"\"\n",
        "    Returns the last word among the longest words in a list\n",
        "    \"\"\"\n",
        "    if len(x) > len(y): #daca x e mai lung => return x\n",
        "      return x\n",
        "    elif len(y) > len(x): #daca y e mai lung => return y\n",
        "      return y\n",
        "    else: #daca sunt egale alfabetic\n",
        "      if x < y: #daca x vine inaintea lui y alfabetic => return x, else return t\n",
        "        return x\n",
        "      else:\n",
        "        return y\n"
      ],
      "metadata": {
        "id": "6bFg2LjGiLIX"
      },
      "execution_count": 45,
      "outputs": []
    },
    {
      "cell_type": "code",
      "source": [
        "wordRDD = sc.parallelize(words)\n",
        "#transformam words intr un RDD"
      ],
      "metadata": {
        "id": "e8A4PflDiLRT"
      },
      "execution_count": 43,
      "outputs": []
    },
    {
      "cell_type": "code",
      "source": [
        "wordRDD.reduce(largerThan)\n",
        "#Macinsoth si computers au ambele cele mai multe caractere (9)\n",
        "#returneaza Macintosh deoarece M < c. De ce? pt ca in ASCII: M = 77, c = 99"
      ],
      "metadata": {
        "colab": {
          "base_uri": "https://localhost:8080/",
          "height": 35
        },
        "id": "5giLPLaHiLbs",
        "outputId": "d0f21386-ad53-48cc-ec65-bff8adaf90e7"
      },
      "execution_count": 48,
      "outputs": [
        {
          "output_type": "execute_result",
          "data": {
            "text/plain": [
              "'Macintosh'"
            ],
            "application/vnd.google.colaboratory.intrinsic+json": {
              "type": "string"
            }
          },
          "metadata": {},
          "execution_count": 48
        }
      ]
    },
    {
      "cell_type": "code",
      "source": [
        "words"
      ],
      "metadata": {
        "colab": {
          "base_uri": "https://localhost:8080/"
        },
        "id": "HdxRNyres2Te",
        "outputId": "4d88de03-10a4-41db-92b6-2e1c070fe9fa"
      },
      "execution_count": 47,
      "outputs": [
        {
          "output_type": "execute_result",
          "data": {
            "text/plain": [
              "['These', 'are', 'some', 'of', 'the', 'best', 'Macintosh', 'computers', 'ever']"
            ]
          },
          "metadata": {},
          "execution_count": 47
        }
      ]
    },
    {
      "cell_type": "code",
      "source": [
        "#Sampling, esantionare aleatorie din RDD\n",
        "\"\"\"\n",
        "RDD.sample(withReplacement, p)\n",
        "----------------------------------\n",
        "sample(withReplacement, fraction)\n",
        "-\n",
        "with replacement = TRUE/ FALSE\n",
        "TRUE - un elem poate fi ales de mai multe ori\n",
        "FALSE - un elem este ales doar o sg data\n",
        "-\n",
        "fraction, adesea notat cu p:\n",
        "Probabilitatea ca fiecare elem sa fie inclus in esantion\n",
        "ex: fraction = 0.5 => Spark incearca sa aleaga 50% din elem (dar nu garanteaza exact)\n",
        "\"\"\"\n",
        "m = 5\n",
        "n = 20\n",
        "print('sample1=', A.sample(False, m/n).collect())\n",
        "#False, fara inlocuire, un elem e ales doar o data\n",
        "#m/n reprez probabilitatea ca fiecare sa fie ales, in acest caz 5/20 => 0.25\n",
        "print('sample2=', A.sample(False, m/n).collect())\n",
        "#!!!FIECARE ELM ARE 25 % SA FIE ALES"
      ],
      "metadata": {
        "colab": {
          "base_uri": "https://localhost:8080/"
        },
        "id": "Q2F_0CaBs2dp",
        "outputId": "44e8e387-c425-4f43-f780-a4e4e332fbc1"
      },
      "execution_count": 50,
      "outputs": [
        {
          "output_type": "stream",
          "name": "stdout",
          "text": [
            "sample1= [np.int64(4), np.int64(9), np.int64(2), np.int64(0), np.int64(8), np.int64(6), np.int64(9)]\n",
            "sample2= [np.int64(3), np.int64(4), np.int64(9), np.int64(1), np.int64(6)]\n"
          ]
        }
      ]
    },
    {
      "cell_type": "code",
      "source": [
        "print(A.collect())\n",
        "#Statistici de baza\n",
        "#max\n",
        "print(\"Maximum: \", A.max())\n",
        "#min\n",
        "print(\"Minimum:\", A.min())\n",
        "#media artimetica\n",
        "print(\"Mean(average): \", A.mean())\n",
        "#deviatia standard\n",
        "print(\"Standard deviation: \", A.stdev())"
      ],
      "metadata": {
        "colab": {
          "base_uri": "https://localhost:8080/"
        },
        "id": "q0MwkMwds2mX",
        "outputId": "c4100d0d-6940-4e11-ed83-b75a7c2fa364"
      },
      "execution_count": 57,
      "outputs": [
        {
          "output_type": "stream",
          "name": "stdout",
          "text": [
            "[np.int64(6), np.int64(3), np.int64(4), np.int64(1), np.int64(9), np.int64(4), np.int64(9), np.int64(2), np.int64(4), np.int64(3), np.int64(2), np.int64(0), np.int64(1), np.int64(4), np.int64(1), np.int64(8), np.int64(5), np.int64(6), np.int64(9), np.int64(9)]\n",
            "Maximum:  9\n",
            "Minimum: 0\n",
            "Mean(average):  4.5\n",
            "Standard deviation:  2.9410882339705484\n"
          ]
        }
      ]
    },
    {
      "cell_type": "code",
      "source": [
        "A.stats()"
      ],
      "metadata": {
        "colab": {
          "base_uri": "https://localhost:8080/"
        },
        "id": "d_ABIA75xFab",
        "outputId": "139dd56c-e220-4b00-a8a2-1bbd0dcc3cb3"
      },
      "execution_count": 58,
      "outputs": [
        {
          "output_type": "execute_result",
          "data": {
            "text/plain": [
              "(count: 20, mean: 4.5, stdev: 2.9410882339705484, max: 9.0, min: 0.0)"
            ]
          },
          "metadata": {},
          "execution_count": 58
        }
      ]
    },
    {
      "cell_type": "code",
      "source": [
        "#Mapare simpla\n",
        "B = A.map(lambda x: x * x)\n",
        "#Creare nou RDD, B.\n",
        "#Fiecare elem din A este inlocuit de patratul sau (X*X in B)\n",
        "#Map ia fiecare elemnt din RDD si il transforma dupa o anumita conditie spusa de noi"
      ],
      "metadata": {
        "id": "0ffjbI4GxF0T"
      },
      "execution_count": 60,
      "outputs": []
    },
    {
      "cell_type": "code",
      "source": [
        "B.collect()"
      ],
      "metadata": {
        "colab": {
          "base_uri": "https://localhost:8080/"
        },
        "id": "BtkTsD41xF7p",
        "outputId": "03b932ba-6413-4c6b-d908-24e72979719a"
      },
      "execution_count": 61,
      "outputs": [
        {
          "output_type": "execute_result",
          "data": {
            "text/plain": [
              "[np.int64(36),\n",
              " np.int64(9),\n",
              " np.int64(16),\n",
              " np.int64(1),\n",
              " np.int64(81),\n",
              " np.int64(16),\n",
              " np.int64(81),\n",
              " np.int64(4),\n",
              " np.int64(16),\n",
              " np.int64(9),\n",
              " np.int64(4),\n",
              " np.int64(0),\n",
              " np.int64(1),\n",
              " np.int64(16),\n",
              " np.int64(1),\n",
              " np.int64(64),\n",
              " np.int64(25),\n",
              " np.int64(36),\n",
              " np.int64(81),\n",
              " np.int64(81)]"
            ]
          },
          "metadata": {},
          "execution_count": 61
        }
      ]
    },
    {
      "cell_type": "code",
      "source": [
        "def square_if_odd(x):\n",
        "  if x % 2 == 1: # x impar => returnare x * x\n",
        "    return x * x\n",
        "  else: # x par => returnare x\n",
        "    return x"
      ],
      "metadata": {
        "id": "OyDLHiqyyjQW"
      },
      "execution_count": 64,
      "outputs": []
    },
    {
      "cell_type": "code",
      "source": [
        "#Aplicare fctie custom\n",
        "A.map(square_if_odd).collect()"
      ],
      "metadata": {
        "colab": {
          "base_uri": "https://localhost:8080/"
        },
        "id": "yIPy7GhBy2hA",
        "outputId": "9b5afe11-df7a-4ae6-ec19-352a1e43f059"
      },
      "execution_count": 70,
      "outputs": [
        {
          "output_type": "execute_result",
          "data": {
            "text/plain": [
              "[np.int64(6),\n",
              " np.int64(9),\n",
              " np.int64(4),\n",
              " np.int64(1),\n",
              " np.int64(81),\n",
              " np.int64(4),\n",
              " np.int64(81),\n",
              " np.int64(2),\n",
              " np.int64(4),\n",
              " np.int64(9),\n",
              " np.int64(2),\n",
              " np.int64(0),\n",
              " np.int64(1),\n",
              " np.int64(4),\n",
              " np.int64(1),\n",
              " np.int64(8),\n",
              " np.int64(25),\n",
              " np.int64(6),\n",
              " np.int64(81),\n",
              " np.int64(81)]"
            ]
          },
          "metadata": {},
          "execution_count": 70
        }
      ]
    },
    {
      "cell_type": "code",
      "source": [
        "A.flatMap(lambda x:(x, x*x)).collect()\n",
        "#flatMap -> aplica o functie care returneaza o lista/tuplu de elemente pentru fiecare element RDD\n",
        "#in aces caz, fiecare element x produce 2 valori: x si x*x\n",
        "#diferenta fata de map este ca: flatmap poate returna mai multe elemente, iar map returneaza\n",
        "# un singur element per intrare\n",
        "# EX: Dacă A are [2, 3], rezultatul e [2, 4, 3, 9]."
      ],
      "metadata": {
        "colab": {
          "base_uri": "https://localhost:8080/"
        },
        "id": "SZR1xQEvym3f",
        "outputId": "9c03d7ce-c65d-4fd2-dbbb-c64b6937c083"
      },
      "execution_count": 66,
      "outputs": [
        {
          "output_type": "execute_result",
          "data": {
            "text/plain": [
              "[np.int64(6),\n",
              " np.int64(36),\n",
              " np.int64(3),\n",
              " np.int64(9),\n",
              " np.int64(4),\n",
              " np.int64(16),\n",
              " np.int64(1),\n",
              " np.int64(1),\n",
              " np.int64(9),\n",
              " np.int64(81),\n",
              " np.int64(4),\n",
              " np.int64(16),\n",
              " np.int64(9),\n",
              " np.int64(81),\n",
              " np.int64(2),\n",
              " np.int64(4),\n",
              " np.int64(4),\n",
              " np.int64(16),\n",
              " np.int64(3),\n",
              " np.int64(9),\n",
              " np.int64(2),\n",
              " np.int64(4),\n",
              " np.int64(0),\n",
              " np.int64(0),\n",
              " np.int64(1),\n",
              " np.int64(1),\n",
              " np.int64(4),\n",
              " np.int64(16),\n",
              " np.int64(1),\n",
              " np.int64(1),\n",
              " np.int64(8),\n",
              " np.int64(64),\n",
              " np.int64(5),\n",
              " np.int64(25),\n",
              " np.int64(6),\n",
              " np.int64(36),\n",
              " np.int64(9),\n",
              " np.int64(81),\n",
              " np.int64(9),\n",
              " np.int64(81)]"
            ]
          },
          "metadata": {},
          "execution_count": 66
        }
      ]
    },
    {
      "cell_type": "code",
      "source": [
        "#Grupari si bining\n",
        "result = A.groupBy(lambda x:x%2).collect()\n",
        "#grupeaza elementele din RDD dupa o cheie(fctie data)\n",
        "#x%2 => paritate; 0:pt nr pare, 1:pt impare\n",
        "#Dacă RDD-ul A are [1, 2, 3, 4, 5]:\n",
        "#   Grupa 0 (pare) → [2, 4]; Grupa 1 (impare) → [1, 3, 5]\n",
        "\n",
        "\n",
        "sorted([(x, sorted(y)) for (x, y) in result])\n",
        "#sortare\n",
        "# x -> cheia (0, 1); y -> grupul de elemente"
      ],
      "metadata": {
        "colab": {
          "base_uri": "https://localhost:8080/"
        },
        "id": "T3bUfbNCyjfs",
        "outputId": "b6be043e-b012-42b1-ff75-920eca79b50f"
      },
      "execution_count": 71,
      "outputs": [
        {
          "output_type": "execute_result",
          "data": {
            "text/plain": [
              "[(np.int64(0),\n",
              "  [np.int64(0),\n",
              "   np.int64(2),\n",
              "   np.int64(2),\n",
              "   np.int64(4),\n",
              "   np.int64(4),\n",
              "   np.int64(4),\n",
              "   np.int64(4),\n",
              "   np.int64(6),\n",
              "   np.int64(6),\n",
              "   np.int64(8)]),\n",
              " (np.int64(1),\n",
              "  [np.int64(1),\n",
              "   np.int64(1),\n",
              "   np.int64(1),\n",
              "   np.int64(3),\n",
              "   np.int64(3),\n",
              "   np.int64(5),\n",
              "   np.int64(9),\n",
              "   np.int64(9),\n",
              "   np.int64(9),\n",
              "   np.int64(9)])]"
            ]
          },
          "metadata": {},
          "execution_count": 71
        }
      ]
    },
    {
      "cell_type": "code",
      "source": [
        "B.histogram([x for x in range(0, 100, 10)])\n",
        "# creeaza intervale si numara cate elemente sunt in fiecare interval\n",
        "\n",
        "\"\"\"\n",
        " Prima listă - intervalele (buckets):\n",
        "[0, 10, 20, 30, 40, 50, 60, 70, 80, 90]\n",
        "\n",
        "Asta înseamnă că sunt 9 intervale:\n",
        "\n",
        "[0-10), [10-20), [20-30), ..., [80-90).\n",
        "\n",
        "Intervalele sunt deschise la dreapta:\n",
        "\n",
        "[0-10) - include 0 și până la 9.999... (nu include 10).\n",
        "\"\"\""
      ],
      "metadata": {
        "colab": {
          "base_uri": "https://localhost:8080/"
        },
        "id": "BlullJLtyjmJ",
        "outputId": "14f53382-6bec-4f3b-f591-f8b4a2835520"
      },
      "execution_count": 73,
      "outputs": [
        {
          "output_type": "execute_result",
          "data": {
            "text/plain": [
              "([0, 10, 20, 30, 40, 50, 60, 70, 80, 90], [8, 4, 1, 2, 0, 0, 1, 0, 4])"
            ]
          },
          "metadata": {},
          "execution_count": 73
        }
      ]
    },
    {
      "cell_type": "code",
      "source": [
        "#cartesian, produsul carteziar dintre 2 RDD-uri\n",
        "lst1 = np.random.randint(0, 10, 3)\n",
        "C = sc.parallelize(lst1)\n",
        "\n",
        "lst2 = np.random.randint(10, 20, 3)\n",
        "D = sc.parallelize(lst2)\n",
        "\n",
        "print(\"C\", C.collect())\n",
        "print(\"D\", D.collect())\n",
        "\n",
        "(C+D).collect()\n",
        "#unire cele 2 RDD-URI\n",
        "\n",
        "C.cartesian(D).collect()\n",
        "#Produsul cartezian, combina fiecare elem din C cu fiecare elem din D\n"
      ],
      "metadata": {
        "colab": {
          "base_uri": "https://localhost:8080/"
        },
        "id": "G9IEZnUw09Kk",
        "outputId": "5c20862e-2ea2-4fe1-9b5b-7c683b896285"
      },
      "execution_count": 81,
      "outputs": [
        {
          "output_type": "stream",
          "name": "stdout",
          "text": [
            "C [np.int64(1), np.int64(0), np.int64(3)]\n",
            "D [np.int64(16), np.int64(14), np.int64(10)]\n"
          ]
        },
        {
          "output_type": "execute_result",
          "data": {
            "text/plain": [
              "[(np.int64(1), np.int64(16)),\n",
              " (np.int64(1), np.int64(14)),\n",
              " (np.int64(1), np.int64(10)),\n",
              " (np.int64(0), np.int64(16)),\n",
              " (np.int64(0), np.int64(14)),\n",
              " (np.int64(0), np.int64(10)),\n",
              " (np.int64(3), np.int64(16)),\n",
              " (np.int64(3), np.int64(14)),\n",
              " (np.int64(3), np.int64(10))]"
            ]
          },
          "metadata": {},
          "execution_count": 81
        }
      ]
    },
    {
      "cell_type": "code",
      "source": [
        "rdd1 = sc.parallelize([1, 10, 2, 3, 4, 5])\n",
        "rdd2 = sc.parallelize([1, 6, 2, 3, 7, 8])\n",
        "rdd1.intersection(rdd2).collect()\n",
        "#intersectarea a 2 RDD-uri"
      ],
      "metadata": {
        "colab": {
          "base_uri": "https://localhost:8080/"
        },
        "id": "BqIYQPRP09cS",
        "outputId": "46ae33e7-8f1b-47f2-b1c8-c9172bd9089b"
      },
      "execution_count": 84,
      "outputs": [
        {
          "output_type": "execute_result",
          "data": {
            "text/plain": [
              "[1, 2, 3]"
            ]
          },
          "metadata": {},
          "execution_count": 84
        }
      ]
    },
    {
      "cell_type": "code",
      "source": [
        "rdd1.subtract(rdd2).collect()\n",
        "#ce este rdd1 si nu in rdd2"
      ],
      "metadata": {
        "colab": {
          "base_uri": "https://localhost:8080/"
        },
        "id": "hMSDpQ9Y09nC",
        "outputId": "86b4bb07-df11-442a-882d-8dafcf26ddd0"
      },
      "execution_count": 87,
      "outputs": [
        {
          "output_type": "execute_result",
          "data": {
            "text/plain": [
              "[10, 4, 5]"
            ]
          },
          "metadata": {},
          "execution_count": 87
        }
      ]
    },
    {
      "cell_type": "code",
      "source": [
        "sc.stop()"
      ],
      "metadata": {
        "id": "8ggJiSXb09yS"
      },
      "execution_count": 88,
      "outputs": []
    },
    {
      "cell_type": "markdown",
      "source": [],
      "metadata": {
        "id": "sHtzgisIeWQl"
      }
    }
  ]
}
