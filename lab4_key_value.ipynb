{
  "nbformat": 4,
  "nbformat_minor": 0,
  "metadata": {
    "colab": {
      "provenance": [],
      "authorship_tag": "ABX9TyOM6O1/DB9lTE9VV7ZSe3NS",
      "include_colab_link": true
    },
    "kernelspec": {
      "name": "python3",
      "display_name": "Python 3"
    },
    "language_info": {
      "name": "python"
    }
  },
  "cells": [
    {
      "cell_type": "markdown",
      "metadata": {
        "id": "view-in-github",
        "colab_type": "text"
      },
      "source": [
        "<a href=\"https://colab.research.google.com/github/GheorgheBriana/Big-data-faculty/blob/main/lab4_key_value.ipynb\" target=\"_parent\"><img src=\"https://colab.research.google.com/assets/colab-badge.svg\" alt=\"Open In Colab\"/></a>"
      ]
    },
    {
      "cell_type": "code",
      "execution_count": 1,
      "metadata": {
        "id": "MrTXpYf5VL4k"
      },
      "outputs": [],
      "source": [
        "from pyspark import SparkContext\n",
        "import numpy as np"
      ]
    },
    {
      "cell_type": "code",
      "source": [
        "sc = SparkContext(master = \"local[4]\")"
      ],
      "metadata": {
        "id": "J2uUJwhYWD_l"
      },
      "execution_count": 2,
      "outputs": []
    },
    {
      "cell_type": "code",
      "source": [
        "# creare 2 liste aleatoare\n",
        "a = np.random.randint(1, 10, 20) # 20 de elemente intre [1, 10)\n",
        "b = np.random.randint(1, 10, 20)"
      ],
      "metadata": {
        "id": "hFddwzJfWD6f"
      },
      "execution_count": 4,
      "outputs": []
    },
    {
      "cell_type": "code",
      "source": [
        "# unim cele doua liste in perechi (key, value) cu zip\n",
        "c = list(zip(a, b))\n",
        "print(c)"
      ],
      "metadata": {
        "colab": {
          "base_uri": "https://localhost:8080/"
        },
        "id": "r0fySZ08WD2H",
        "outputId": "c7c6fa34-3bc2-45fe-9b51-469b953c6f24"
      },
      "execution_count": 5,
      "outputs": [
        {
          "output_type": "stream",
          "name": "stdout",
          "text": [
            "[(np.int64(4), np.int64(8)), (np.int64(1), np.int64(2)), (np.int64(5), np.int64(8)), (np.int64(1), np.int64(9)), (np.int64(2), np.int64(7)), (np.int64(4), np.int64(8)), (np.int64(5), np.int64(7)), (np.int64(2), np.int64(7)), (np.int64(7), np.int64(1)), (np.int64(1), np.int64(1)), (np.int64(7), np.int64(9)), (np.int64(1), np.int64(3)), (np.int64(5), np.int64(8)), (np.int64(3), np.int64(5)), (np.int64(5), np.int64(9)), (np.int64(7), np.int64(5)), (np.int64(8), np.int64(8)), (np.int64(4), np.int64(5)), (np.int64(9), np.int64(3)), (np.int64(1), np.int64(9))]\n"
          ]
        }
      ]
    },
    {
      "cell_type": "code",
      "source": [
        "A = sc.parallelize(c) # cream un RDD din lista c"
      ],
      "metadata": {
        "id": "g7rkSyLTWZmM"
      },
      "execution_count": 6,
      "outputs": []
    },
    {
      "cell_type": "code",
      "source": [
        "A.collect()"
      ],
      "metadata": {
        "colab": {
          "base_uri": "https://localhost:8080/"
        },
        "id": "bM1y9COxWDvR",
        "outputId": "dff13f27-9496-4cee-c6f9-883cb4c6293d"
      },
      "execution_count": 7,
      "outputs": [
        {
          "output_type": "execute_result",
          "data": {
            "text/plain": [
              "[(np.int64(4), np.int64(8)),\n",
              " (np.int64(1), np.int64(2)),\n",
              " (np.int64(5), np.int64(8)),\n",
              " (np.int64(1), np.int64(9)),\n",
              " (np.int64(2), np.int64(7)),\n",
              " (np.int64(4), np.int64(8)),\n",
              " (np.int64(5), np.int64(7)),\n",
              " (np.int64(2), np.int64(7)),\n",
              " (np.int64(7), np.int64(1)),\n",
              " (np.int64(1), np.int64(1)),\n",
              " (np.int64(7), np.int64(9)),\n",
              " (np.int64(1), np.int64(3)),\n",
              " (np.int64(5), np.int64(8)),\n",
              " (np.int64(3), np.int64(5)),\n",
              " (np.int64(5), np.int64(9)),\n",
              " (np.int64(7), np.int64(5)),\n",
              " (np.int64(8), np.int64(8)),\n",
              " (np.int64(4), np.int64(5)),\n",
              " (np.int64(9), np.int64(3)),\n",
              " (np.int64(1), np.int64(9))]"
            ]
          },
          "metadata": {},
          "execution_count": 7
        }
      ]
    },
    {
      "cell_type": "code",
      "source": [
        "A.lookup(4)\n",
        "# cautam toate valorile care au cheia 4"
      ],
      "metadata": {
        "colab": {
          "base_uri": "https://localhost:8080/"
        },
        "id": "xRmNyZrTWDpy",
        "outputId": "125b9f05-07e7-4ed4-8e1c-20ecc8fb1845"
      },
      "execution_count": 8,
      "outputs": [
        {
          "output_type": "execute_result",
          "data": {
            "text/plain": [
              "[np.int64(8), np.int64(8), np.int64(5)]"
            ]
          },
          "metadata": {},
          "execution_count": 8
        }
      ]
    },
    {
      "cell_type": "code",
      "source": [
        "A.sortByKey().lookup(3)\n",
        "# sortByKey -> sortare RDD dupa cheie in ordine crescatoare\n",
        "# lookup(3) -> cautam valorile care au cheia 3"
      ],
      "metadata": {
        "colab": {
          "base_uri": "https://localhost:8080/"
        },
        "id": "hQD-3obqWDkv",
        "outputId": "8729da44-8478-4e7c-9e2c-174498e5979f"
      },
      "execution_count": 11,
      "outputs": [
        {
          "output_type": "execute_result",
          "data": {
            "text/plain": [
              "[np.int64(5)]"
            ]
          },
          "metadata": {},
          "execution_count": 11
        }
      ]
    },
    {
      "cell_type": "code",
      "source": [
        "sc.stop()"
      ],
      "metadata": {
        "id": "nrlwYZyZWDgO"
      },
      "execution_count": 12,
      "outputs": []
    }
  ]
}