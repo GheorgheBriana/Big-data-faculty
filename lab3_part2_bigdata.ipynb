{
  "nbformat": 4,
  "nbformat_minor": 0,
  "metadata": {
    "colab": {
      "provenance": [],
      "authorship_tag": "ABX9TyP9m7rANSwiCsWVpomXA5iZ",
      "include_colab_link": true
    },
    "kernelspec": {
      "name": "python3",
      "display_name": "Python 3"
    },
    "language_info": {
      "name": "python"
    }
  },
  "cells": [
    {
      "cell_type": "markdown",
      "metadata": {
        "id": "view-in-github",
        "colab_type": "text"
      },
      "source": [
        "<a href=\"https://colab.research.google.com/github/GheorgheBriana/Big-data-faculty/blob/main/lab3_part2_bigdata.ipynb\" target=\"_parent\"><img src=\"https://colab.research.google.com/assets/colab-badge.svg\" alt=\"Open In Colab\"/></a>"
      ]
    },
    {
      "cell_type": "code",
      "execution_count": 1,
      "metadata": {
        "id": "gQUkCSXl2LE0"
      },
      "outputs": [],
      "source": [
        "from pyspark import SparkContext"
      ]
    },
    {
      "cell_type": "code",
      "source": [
        "sc = SparkContext(master = \"local[2]\")"
      ],
      "metadata": {
        "id": "r3_EDVZ42aFd"
      },
      "execution_count": 2,
      "outputs": []
    },
    {
      "cell_type": "code",
      "source": [
        "#Paralelizati lista primelor 1.000.000 numere intregi\n",
        "#trebuie sa cream un RDD din lista numerelod [0, 1.000.000)\n",
        "A = sc.parallelize(range(0, 1000000)) # se creeaza un RDD dintr o colectie locala\n",
        "# nu se zice cate partitii sa aiba. deoarece am inceput cu un local[2] => creeaza 2 partitii"
      ],
      "metadata": {
        "id": "_kp7ANzE2aQP"
      },
      "execution_count": 3,
      "outputs": []
    },
    {
      "cell_type": "code",
      "source": [
        "print(A.getNumPartitions()) # afiseaza numarul de partitii ale RDD-ului A\n",
        "# Spark imparte datele in partitii care se proceseaza in paralel"
      ],
      "metadata": {
        "colab": {
          "base_uri": "https://localhost:8080/"
        },
        "id": "iL-ra4eP2vwP",
        "outputId": "c4dc7109-128f-4b08-b8c9-646a8c3360bf"
      },
      "execution_count": 4,
      "outputs": [
        {
          "output_type": "stream",
          "name": "stdout",
          "text": [
            "2\n"
          ]
        }
      ]
    },
    {
      "cell_type": "code",
      "source": [
        "D = A.repartition(10)\n",
        "# reimpartim RDD-ul A in 10 partitii"
      ],
      "metadata": {
        "id": "sqTqDJK82aX7"
      },
      "execution_count": 5,
      "outputs": []
    },
    {
      "cell_type": "code",
      "source": [
        "print(D.getNumPartitions()) #vedem ca D are 10 partitii"
      ],
      "metadata": {
        "colab": {
          "base_uri": "https://localhost:8080/"
        },
        "id": "YjrGz46i2buT",
        "outputId": "2ae82333-c0e2-48a9-dae7-57834fffd8d8"
      },
      "execution_count": 6,
      "outputs": [
        {
          "output_type": "stream",
          "name": "stdout",
          "text": [
            "10\n"
          ]
        }
      ]
    },
    {
      "cell_type": "code",
      "source": [
        "A = sc.parallelize(range(1000000), numSlices = 8) #cream din nou un RDD a cu 1 milion de numere\n",
        "# spunem de la inceput sa fie impartit in 8 partitii"
      ],
      "metadata": {
        "id": "Kb4hLFI82bjd"
      },
      "execution_count": 7,
      "outputs": []
    },
    {
      "cell_type": "code",
      "source": [
        "print(A.getNumPartitions())\n",
        "#afiseaza 8 partitii"
      ],
      "metadata": {
        "colab": {
          "base_uri": "https://localhost:8080/"
        },
        "id": "IQpOnJUo5G6l",
        "outputId": "e6cb07cc-fd86-447e-89c2-140cfd4a69f6"
      },
      "execution_count": 9,
      "outputs": [
        {
          "output_type": "stream",
          "name": "stdout",
          "text": [
            "8\n"
          ]
        }
      ]
    },
    {
      "cell_type": "code",
      "source": [
        "A = sc.parallelize(range(1000000)).map(lambda x: (x, x)).partitionBy(10)\n",
        "# map(lambda x: (x, x) -> transforma fiecare element in tuplu. EX: 0 => (0,0) etc\n",
        "#partitionBy(10) -> 10 partitii\n",
        "print(A.glom().map(len).collect())\n",
        "#glom() -> tranforma fiecare partitie intr o lista de elemente\n",
        "# map(len) -> calculeaza nr de elemente din fiecare partitie\n",
        "#collect() -> afiseaza rezultatele"
      ],
      "metadata": {
        "colab": {
          "base_uri": "https://localhost:8080/"
        },
        "id": "u2K4l8ft6MLC",
        "outputId": "da99a98c-ee7a-4eef-802c-eee433d5341e"
      },
      "execution_count": 11,
      "outputs": [
        {
          "output_type": "stream",
          "name": "stdout",
          "text": [
            "[100000, 100000, 100000, 100000, 100000, 100000, 100000, 100000, 100000, 100000]\n"
          ]
        }
      ]
    },
    {
      "cell_type": "code",
      "source": [
        "#Presupunem că dorim să folosim funcția filter()\n",
        "# pentru a selecta o parte din elementele lui A\n",
        "# În unele partiții pot rămâne mai multe elemente decât în altele\n"
      ],
      "metadata": {
        "id": "sbg_2VsF2bes"
      },
      "execution_count": null,
      "outputs": []
    },
    {
      "cell_type": "code",
      "source": [
        "#Selectati 20% din elemente, pe baza unui filtru care retine doar numerele divizibile cu 5\n",
        "#Obtineti numarul de elemente din partitiile lui B\n",
        "B = A.filter(lambda x: x[0] % 5 == 0)\n",
        "print(B.glom().map(len).collect())"
      ],
      "metadata": {
        "colab": {
          "base_uri": "https://localhost:8080/"
        },
        "id": "N90N59t82bZx",
        "outputId": "3143244a-bfea-4874-93b9-a39c8dce695c"
      },
      "execution_count": 13,
      "outputs": [
        {
          "output_type": "stream",
          "name": "stdout",
          "text": [
            "[100000, 0, 0, 0, 0, 100000, 0, 0, 0, 0]\n"
          ]
        }
      ]
    },
    {
      "cell_type": "code",
      "source": [
        "#Redistribuiti B in 10 partitii cu numar egal de elemente\n",
        "#Obtineti numarul de elemente din partitiile lui C"
      ],
      "metadata": {
        "id": "uxTB2Y2v2bVp"
      },
      "execution_count": null,
      "outputs": []
    },
    {
      "cell_type": "code",
      "source": [
        "#a) cu partitionBy (controlat, presupune(key, value)\n",
        "C = B.partitionBy(10)\n",
        "print(C.glom().map(len).collect())\n",
        "#elementele s-au dus doar in anumite partitii (nu uniform)\n",
        "# in acest caz (divizibilitate cu 5), cheile sunt multiplii de 5\n",
        "# => doar partitiile 0 si 5 sunt umplute, restul raman goale"
      ],
      "metadata": {
        "colab": {
          "base_uri": "https://localhost:8080/"
        },
        "id": "puj5fBMESAvb",
        "outputId": "46478e5b-9add-4087-8f5b-038e3701712a"
      },
      "execution_count": 17,
      "outputs": [
        {
          "output_type": "stream",
          "name": "stdout",
          "text": [
            "[100000, 0, 0, 0, 0, 100000, 0, 0, 0, 0]\n"
          ]
        }
      ]
    },
    {
      "cell_type": "code",
      "source": [
        "#b) cu repartition (aleator, fara cheie)\n",
        "D = B.repartition(10)\n",
        "print(D.glom().map(len).collect())\n",
        "# echilibreaza datele in mod egal"
      ],
      "metadata": {
        "colab": {
          "base_uri": "https://localhost:8080/"
        },
        "id": "gqC2E_0N2bRj",
        "outputId": "2591115a-9e92-4fad-d326-603bbe66d9c1"
      },
      "execution_count": 16,
      "outputs": [
        {
          "output_type": "stream",
          "name": "stdout",
          "text": [
            "[20000, 20000, 20000, 20000, 20000, 20000, 20000, 20000, 20000, 20000]\n"
          ]
        }
      ]
    },
    {
      "cell_type": "code",
      "source": [
        "#Dorim sa obtinem primul si ultimul element din partitiile neechilibrate\n",
        "# pe care le-am obtinut din A in B. Partitie vida => NONE"
      ],
      "metadata": {
        "id": "T-g22e7e2bNU"
      },
      "execution_count": null,
      "outputs": []
    },
    {
      "cell_type": "code",
      "source": [
        "# Definiți funcția ce returnează tuplul de 3 elemente cerut pentru fiecare partiție\n",
        "#def getPartitionInfo(P):\n",
        "\n",
        "#Apelați funcția pentru partițiile lui B și afișați rezultatul\n"
      ],
      "metadata": {
        "id": "cbMxaQrM2bIz"
      },
      "execution_count": null,
      "outputs": []
    },
    {
      "cell_type": "code",
      "source": [
        "def getPartitionInfo(P):\n",
        "  if len(P) == 0:\n",
        "    return None\n",
        "  else:\n",
        "    primul = P[0]\n",
        "    ultimul = P[-1]\n",
        "    count = len(P)\n",
        "    suma = primul + ultimul\n",
        "    return (primul, ultimul, suma)"
      ],
      "metadata": {
        "id": "lDYNqlxs2bEd"
      },
      "execution_count": 19,
      "outputs": []
    },
    {
      "cell_type": "code",
      "source": [
        "resultB = B.glom().map(getPartitionInfo).collect()\n",
        "print(resultB)"
      ],
      "metadata": {
        "colab": {
          "base_uri": "https://localhost:8080/"
        },
        "id": "08P7jRDW2a_w",
        "outputId": "655a4248-1928-4283-d009-ee991c2cded1"
      },
      "execution_count": 22,
      "outputs": [
        {
          "output_type": "stream",
          "name": "stdout",
          "text": [
            "[((0, 0), (999990, 999990), (0, 0, 999990, 999990)), None, None, None, None, ((5, 5), (999995, 999995), (5, 5, 999995, 999995)), None, None, None, None]\n"
          ]
        }
      ]
    },
    {
      "cell_type": "code",
      "source": [
        "resultA = A.glom().map(getPartitionInfo).collect()\n",
        "print(resultA)"
      ],
      "metadata": {
        "colab": {
          "base_uri": "https://localhost:8080/"
        },
        "id": "A5-QQn-k2ans",
        "outputId": "3c5d62df-9e72-4441-c867-835990b26d2d"
      },
      "execution_count": 23,
      "outputs": [
        {
          "output_type": "stream",
          "name": "stdout",
          "text": [
            "[((0, 0), (999990, 999990), (0, 0, 999990, 999990)), ((1, 1), (999991, 999991), (1, 1, 999991, 999991)), ((2, 2), (999992, 999992), (2, 2, 999992, 999992)), ((3, 3), (999993, 999993), (3, 3, 999993, 999993)), ((4, 4), (999994, 999994), (4, 4, 999994, 999994)), ((5, 5), (999995, 999995), (5, 5, 999995, 999995)), ((6, 6), (999996, 999996), (6, 6, 999996, 999996)), ((7, 7), (999997, 999997), (7, 7, 999997, 999997)), ((8, 8), (999998, 999998), (8, 8, 999998, 999998)), ((9, 9), (999999, 999999), (9, 9, 999999, 999999))]\n"
          ]
        }
      ]
    }
  ]
}