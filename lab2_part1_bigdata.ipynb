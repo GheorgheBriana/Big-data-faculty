{
  "nbformat": 4,
  "nbformat_minor": 0,
  "metadata": {
    "colab": {
      "provenance": [],
      "authorship_tag": "ABX9TyOcdjjrmxWA8zDbGzpA0s/M",
      "include_colab_link": true
    },
    "kernelspec": {
      "name": "python3",
      "display_name": "Python 3"
    },
    "language_info": {
      "name": "python"
    }
  },
  "cells": [
    {
      "cell_type": "markdown",
      "metadata": {
        "id": "view-in-github",
        "colab_type": "text"
      },
      "source": [
        "<a href=\"https://colab.research.google.com/github/GheorgheBriana/Big-data-faculty/blob/main/lab2_part1_bigdata.ipynb\" target=\"_parent\"><img src=\"https://colab.research.google.com/assets/colab-badge.svg\" alt=\"Open In Colab\"/></a>"
      ]
    },
    {
      "cell_type": "code",
      "execution_count": 10,
      "metadata": {
        "id": "z30g1POjFGPd"
      },
      "outputs": [],
      "source": [
        "from time import time #time() ne va ajuta sa returnam timpul curent in secunde\n",
        "from pyspark import SparkContext #pentru a utiliza spark"
      ]
    },
    {
      "cell_type": "code",
      "source": [
        "from pyspark import SparkContext\n",
        "from time import time\n",
        "\n",
        "for j in range(1, 5):  # loop de la 1 la 4 inclusiv; j reprezintă numărul de thread-uri\n",
        "    sc = SparkContext(master=\"local[%d]\" % (j))  # creează un nou SparkContext. Spark va rula local pe j threads\n",
        "    print(sc.defaultParallelism)  # afișează valoarea lui j\n",
        "    t0 = time()  # salvează timpul curent pentru a măsura cât durează execuția următoarelor operații\n",
        "\n",
        "    for i in range(10):  # rulăm de mai multe ori pentru a măsura timpul mai exact\n",
        "        sc.parallelize([1, 2] * 10000).reduce(lambda x, y: x + y)\n",
        "        # vom avea 20.000 de elemente (2 elemente * 10.000) pentru a simula un volum mare de date\n",
        "        # => vom avea o listă de tipul: [1, 2, 1, 2, 1, 2, ..., 1, 2] (de 10.000 de ori)\n",
        "        # lista va fi transformată într-un RDD (pentru a o împărți în mai multe thread-uri)\n",
        "        # reduce(lambda x, y: x + y) => adună toate cele 20.000 de elemente din RDD\n",
        "\n",
        "    print(f\"{j} executors, time = {time() - t0}\")\n",
        "    # inserăm valoarea lui j în text\n",
        "    # {time() - t0} - calculează și inserează cât timp a trecut de la începutul măsurătorii\n",
        "    # t0 = time(): înainte să înceapă procesarea; time() timpul curent\n",
        "    sc.stop()  # Oprește SparkContext-ul la sfârșit\n"
      ],
      "metadata": {
        "colab": {
          "base_uri": "https://localhost:8080/"
        },
        "id": "BGAvzNibFaNY",
        "outputId": "87f6c178-334c-4476-f0b8-1d97f322fb28"
      },
      "execution_count": 22,
      "outputs": [
        {
          "output_type": "stream",
          "name": "stdout",
          "text": [
            "1\n",
            "1 executors, time = 2.7330596446990967\n",
            "2\n",
            "2 executors, time = 3.2099251747131348\n",
            "3\n",
            "3 executors, time = 5.611538410186768\n",
            "4\n",
            "4 executors, time = 5.551335573196411\n"
          ]
        }
      ]
    },
    {
      "cell_type": "code",
      "source": [
        "cat/proc/cpuinfo\n",
        "#afiseaza informatii despre procesor"
      ],
      "metadata": {
        "colab": {
          "base_uri": "https://localhost:8080/"
        },
        "id": "NklyAXpGFaoc",
        "outputId": "a8f8c73e-3da7-4b7c-e08e-7469eff0ca6f"
      },
      "execution_count": 23,
      "outputs": [
        {
          "output_type": "stream",
          "name": "stdout",
          "text": [
            "processor\t: 0\n",
            "vendor_id\t: GenuineIntel\n",
            "cpu family\t: 6\n",
            "model\t\t: 79\n",
            "model name\t: Intel(R) Xeon(R) CPU @ 2.20GHz\n",
            "stepping\t: 0\n",
            "microcode\t: 0xffffffff\n",
            "cpu MHz\t\t: 2199.998\n",
            "cache size\t: 56320 KB\n",
            "physical id\t: 0\n",
            "siblings\t: 2\n",
            "core id\t\t: 0\n",
            "cpu cores\t: 1\n",
            "apicid\t\t: 0\n",
            "initial apicid\t: 0\n",
            "fpu\t\t: yes\n",
            "fpu_exception\t: yes\n",
            "cpuid level\t: 13\n",
            "wp\t\t: yes\n",
            "flags\t\t: fpu vme de pse tsc msr pae mce cx8 apic sep mtrr pge mca cmov pat pse36 clflush mmx fxsr sse sse2 ss ht syscall nx pdpe1gb rdtscp lm constant_tsc rep_good nopl xtopology nonstop_tsc cpuid tsc_known_freq pni pclmulqdq ssse3 fma cx16 pcid sse4_1 sse4_2 x2apic movbe popcnt aes xsave avx f16c rdrand hypervisor lahf_lm abm 3dnowprefetch invpcid_single ssbd ibrs ibpb stibp fsgsbase tsc_adjust bmi1 hle avx2 smep bmi2 erms invpcid rtm rdseed adx smap xsaveopt arat md_clear arch_capabilities\n",
            "bugs\t\t: cpu_meltdown spectre_v1 spectre_v2 spec_store_bypass l1tf mds swapgs taa mmio_stale_data retbleed bhi\n",
            "bogomips\t: 4399.99\n",
            "clflush size\t: 64\n",
            "cache_alignment\t: 64\n",
            "address sizes\t: 46 bits physical, 48 bits virtual\n",
            "power management:\n",
            "\n",
            "processor\t: 1\n",
            "vendor_id\t: GenuineIntel\n",
            "cpu family\t: 6\n",
            "model\t\t: 79\n",
            "model name\t: Intel(R) Xeon(R) CPU @ 2.20GHz\n",
            "stepping\t: 0\n",
            "microcode\t: 0xffffffff\n",
            "cpu MHz\t\t: 2199.998\n",
            "cache size\t: 56320 KB\n",
            "physical id\t: 0\n",
            "siblings\t: 2\n",
            "core id\t\t: 0\n",
            "cpu cores\t: 1\n",
            "apicid\t\t: 1\n",
            "initial apicid\t: 1\n",
            "fpu\t\t: yes\n",
            "fpu_exception\t: yes\n",
            "cpuid level\t: 13\n",
            "wp\t\t: yes\n",
            "flags\t\t: fpu vme de pse tsc msr pae mce cx8 apic sep mtrr pge mca cmov pat pse36 clflush mmx fxsr sse sse2 ss ht syscall nx pdpe1gb rdtscp lm constant_tsc rep_good nopl xtopology nonstop_tsc cpuid tsc_known_freq pni pclmulqdq ssse3 fma cx16 pcid sse4_1 sse4_2 x2apic movbe popcnt aes xsave avx f16c rdrand hypervisor lahf_lm abm 3dnowprefetch invpcid_single ssbd ibrs ibpb stibp fsgsbase tsc_adjust bmi1 hle avx2 smep bmi2 erms invpcid rtm rdseed adx smap xsaveopt arat md_clear arch_capabilities\n",
            "bugs\t\t: cpu_meltdown spectre_v1 spectre_v2 spec_store_bypass l1tf mds swapgs taa mmio_stale_data retbleed bhi\n",
            "bogomips\t: 4399.99\n",
            "clflush size\t: 64\n",
            "cache_alignment\t: 64\n",
            "address sizes\t: 46 bits physical, 48 bits virtual\n",
            "power management:\n",
            "\n"
          ]
        }
      ]
    },
    {
      "cell_type": "code",
      "source": [
        "#Creare RDD cu un milion de elemente\n",
        "sc = SparkContext(master=\"local[2]\")"
      ],
      "metadata": {
        "id": "_Tv4etHqFazR"
      },
      "execution_count": 30,
      "outputs": []
    },
    {
      "cell_type": "code",
      "source": [
        "%%time\n",
        "#masoare timpul de executie al intregii celule\n",
        "rdd1 = sc.parallelize(range(1000000)) #definire RDD cu un milion elemente"
      ],
      "metadata": {
        "colab": {
          "base_uri": "https://localhost:8080/"
        },
        "id": "6_jyijZqSDZe",
        "outputId": "bfdd9d15-d7e2-47c7-c56f-a22fc7112a43"
      },
      "execution_count": 33,
      "outputs": [
        {
          "output_type": "stream",
          "name": "stdout",
          "text": [
            "CPU times: user 2.17 ms, sys: 0 ns, total: 2.17 ms\n",
            "Wall time: 5.04 ms\n"
          ]
        }
      ]
    },
    {
      "cell_type": "code",
      "source": [
        "from math import cos #improtam functia cos din modulul math\n",
        "\n",
        "def taketime(x):\n",
        "  [cos(j) for j in range(100)] #calculeaza cosinului pentru numerele [0, 100)\n",
        "  return cos(x) #returnare cosinus de x"
      ],
      "metadata": {
        "id": "NBrZ-rNXRsiU"
      },
      "execution_count": 34,
      "outputs": []
    },
    {
      "cell_type": "code",
      "source": [
        "%%time\n",
        "taketime(2)\n",
        "\n",
        "#CPU times: timpul efectiv in care procesorul a fost utilizat pentru a\n",
        "  # efectua calculele\n",
        "#Wall time: timpul total care a trecut pe ceasul real, adica timpul in care\n",
        "  # intregul proces a fost activ\n",
        "# daca cele doua au valori apropiate => proces relativ si eficient\n",
        "# altfel => procesul a fost blocat sau a asteptat ar"
      ],
      "metadata": {
        "colab": {
          "base_uri": "https://localhost:8080/"
        },
        "id": "r--NPz3bFa7i",
        "outputId": "9e8d7ed1-689b-44f9-8f50-2d359b0d8d1b"
      },
      "execution_count": 35,
      "outputs": [
        {
          "output_type": "stream",
          "name": "stdout",
          "text": [
            "CPU times: user 70 µs, sys: 0 ns, total: 70 µs\n",
            "Wall time: 76.1 µs\n"
          ]
        },
        {
          "output_type": "execute_result",
          "data": {
            "text/plain": [
              "-0.4161468365471424"
            ]
          },
          "metadata": {},
          "execution_count": 35
        }
      ]
    },
    {
      "cell_type": "code",
      "source": [
        "%%time\n",
        "interim = rdd1.map(lambda x: taketime(x))\n",
        "#map va lua fiecare element din rdd1 (RDD-ul cu un milion de elemente) si v-om calcula cosinusul fiecarei valori\n",
        "# cand se aplica functia map => Spark nu calculează imediat rezultatul.\n",
        "# Acesta construieste un plan de executie care va spune ce sa faca atunci cand va veni momentul sa calculeze rezultatele\n",
        "# acest lucru se datoreaza evaluarii lazy"
      ],
      "metadata": {
        "colab": {
          "base_uri": "https://localhost:8080/"
        },
        "id": "TT6-5PxsFcMQ",
        "outputId": "1cb4a618-aa38-4b20-b060-d40d1d408367"
      },
      "execution_count": 36,
      "outputs": [
        {
          "output_type": "stream",
          "name": "stdout",
          "text": [
            "CPU times: user 93 µs, sys: 0 ns, total: 93 µs\n",
            "Wall time: 97.8 µs\n"
          ]
        }
      ]
    },
    {
      "cell_type": "code",
      "source": [
        "print(interim.toDebugString().decode())\n",
        "# afiseaza structura interna a RDD-ului interim\n",
        "# toDebugString() afișează detalii despre cum sunt distribuite datele în RDD\n",
        "# decode(): folosit pentru a decodifica string-ul returna de toDebugString() intr-un format citibil\n"
      ],
      "metadata": {
        "colab": {
          "base_uri": "https://localhost:8080/"
        },
        "id": "VVx8y9Zvavq0",
        "outputId": "c2f62fe4-b543-4682-cf69-7235012a7c2e"
      },
      "execution_count": 41,
      "outputs": [
        {
          "output_type": "stream",
          "name": "stdout",
          "text": [
            "(2) PythonRDD[2] at RDD at PythonRDD.scala:53 []\n",
            " |  ParallelCollectionRDD[1] at readRDDFromFile at PythonRDD.scala:289 []\n"
          ]
        }
      ]
    },
    {
      "cell_type": "code",
      "source": [
        "%%time\n",
        "print('output =', interim.reduce(lambda x, y: x+y))\n",
        "#lambda x, y: x+y: aduna toate elementele din RDD\n",
        "#reduce(): incepe cu doua elemente, le combina, apoi combina rezultatele pana cand se ajunge la un singur rezultat final"
      ],
      "metadata": {
        "colab": {
          "base_uri": "https://localhost:8080/"
        },
        "id": "v4hSQnfyFcKS",
        "outputId": "3ddc1d78-0357-4768-c859-0f67560b90a9"
      },
      "execution_count": 42,
      "outputs": [
        {
          "output_type": "stream",
          "name": "stdout",
          "text": [
            "output = -0.2887054679684353\n",
            "CPU times: user 49.2 ms, sys: 2.93 ms, total: 52.1 ms\n",
            "Wall time: 10.7 s\n"
          ]
        }
      ]
    },
    {
      "cell_type": "code",
      "source": [
        "1000000*31e-6"
      ],
      "metadata": {
        "colab": {
          "base_uri": "https://localhost:8080/"
        },
        "id": "DucBtVQccGCL",
        "outputId": "9ec9dcd5-b6f7-4d6b-9a0a-640a6523f6e1"
      },
      "execution_count": 43,
      "outputs": [
        {
          "output_type": "execute_result",
          "data": {
            "text/plain": [
              "31.0"
            ]
          },
          "metadata": {},
          "execution_count": 43
        }
      ]
    },
    {
      "cell_type": "code",
      "source": [
        "%%time\n",
        "print(interim.filter(lambda x:x>0).count())\n",
        "# filter: filtreaza RDD-ul pe baza unei conditii => se filtreaza elementele mai mari ca 0\n",
        "# count(): aduna numarul de elemente\n",
        "# => functia afiseaza numarul de elemente mai mari ca 0"
      ],
      "metadata": {
        "colab": {
          "base_uri": "https://localhost:8080/"
        },
        "id": "-v31PjZ_FcIF",
        "outputId": "4ab73478-94e5-4ed0-920b-5dc4ffd7c236"
      },
      "execution_count": 44,
      "outputs": [
        {
          "output_type": "stream",
          "name": "stdout",
          "text": [
            "500000\n",
            "CPU times: user 46.6 ms, sys: 5.68 ms, total: 52.3 ms\n",
            "Wall time: 10.1 s\n"
          ]
        }
      ]
    },
    {
      "cell_type": "code",
      "source": [
        "#cache -> metoda care stocheaza temporar datele unui RDD in memoria RAM\n",
        "# Utila pentru a accesa aceleasi date de mai multe ori intr-un loc rapid + evitarea recalcularii lor\n",
        "# prin cache, spark salveaza datele in memorie si le va folosi cand sunt necesare, fara a recalcula\n",
        "\n",
        "#fara cache:\n",
        "interim = rdd1.map(lambda x: taketime(x))"
      ],
      "metadata": {
        "id": "TP2uJcPPFcDa"
      },
      "execution_count": 48,
      "outputs": []
    },
    {
      "cell_type": "code",
      "source": [
        "#adagare cache:\n",
        "interim = rdd1.map(lambda x: taketime(x)).cache()"
      ],
      "metadata": {
        "id": "LCCZmWHzFcBI"
      },
      "execution_count": 49,
      "outputs": []
    },
    {
      "cell_type": "code",
      "source": [
        "#Afisare graf de dependente pentru iterim\n",
        "print(interim.toDebugString().decode())"
      ],
      "metadata": {
        "colab": {
          "base_uri": "https://localhost:8080/"
        },
        "id": "y1q2TRHsFb-o",
        "outputId": "fcfce9ff-0239-4e89-f5ad-d110eb606cf6"
      },
      "execution_count": 50,
      "outputs": [
        {
          "output_type": "stream",
          "name": "stdout",
          "text": [
            "(2) PythonRDD[5] at RDD at PythonRDD.scala:53 [Memory Serialized 1x Replicated]\n",
            " |  ParallelCollectionRDD[1] at readRDDFromFile at PythonRDD.scala:289 [Memory Serialized 1x Replicated]\n"
          ]
        }
      ]
    },
    {
      "cell_type": "code",
      "source": [
        "%%time\n",
        "#Obțineți suma elementelor cu ajutorul metodei reduce și a cache-ului\n",
        "interim.cache()\n",
        "result = interim.reduce(lambda x, y: x+y)\n",
        "print(result)"
      ],
      "metadata": {
        "colab": {
          "base_uri": "https://localhost:8080/"
        },
        "id": "TZLX6Y61Fb8i",
        "outputId": "5537a096-23a1-4ca5-977a-46a7b0c05f4a"
      },
      "execution_count": 64,
      "outputs": [
        {
          "output_type": "stream",
          "name": "stdout",
          "text": [
            "-0.2887054679684353\n",
            "CPU times: user 6.02 ms, sys: 2.82 ms, total: 8.84 ms\n",
            "Wall time: 594 ms\n"
          ]
        }
      ]
    },
    {
      "cell_type": "code",
      "source": [
        "%%time\n",
        "result2 = interim.filter(lambda x: x>0).count()\n",
        "print(result2)"
      ],
      "metadata": {
        "colab": {
          "base_uri": "https://localhost:8080/"
        },
        "id": "dxHPEmivFb5t",
        "outputId": "ef9bacbb-a241-4245-da5e-fb5251b03d0e"
      },
      "execution_count": 65,
      "outputs": [
        {
          "output_type": "stream",
          "name": "stdout",
          "text": [
            "500000\n",
            "CPU times: user 5.01 ms, sys: 2.82 ms, total: 7.82 ms\n",
            "Wall time: 546 ms\n"
          ]
        }
      ]
    },
    {
      "cell_type": "code",
      "source": [],
      "metadata": {
        "id": "2FEOE19PFbzo"
      },
      "execution_count": null,
      "outputs": []
    },
    {
      "cell_type": "code",
      "source": [],
      "metadata": {
        "id": "_u91BmPNFbIU"
      },
      "execution_count": null,
      "outputs": []
    },
    {
      "cell_type": "code",
      "source": [],
      "metadata": {
        "id": "Ylm5TwA3Fbaj"
      },
      "execution_count": null,
      "outputs": []
    },
    {
      "cell_type": "code",
      "source": [],
      "metadata": {
        "id": "8RoOZcMVFbka"
      },
      "execution_count": null,
      "outputs": []
    },
    {
      "cell_type": "code",
      "source": [],
      "metadata": {
        "id": "_UamqFNre1k1"
      },
      "execution_count": null,
      "outputs": []
    },
    {
      "cell_type": "code",
      "source": [],
      "metadata": {
        "id": "QbgRPwUee1t_"
      },
      "execution_count": null,
      "outputs": []
    },
    {
      "cell_type": "code",
      "source": [],
      "metadata": {
        "id": "65V-gWVje11R"
      },
      "execution_count": null,
      "outputs": []
    },
    {
      "cell_type": "code",
      "source": [],
      "metadata": {
        "id": "Vrtrrst-e2KI"
      },
      "execution_count": null,
      "outputs": []
    },
    {
      "cell_type": "code",
      "source": [],
      "metadata": {
        "id": "T-CQBtZce2Tn"
      },
      "execution_count": null,
      "outputs": []
    }
  ]
}